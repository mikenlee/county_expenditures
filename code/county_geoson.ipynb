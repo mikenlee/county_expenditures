{
 "cells": [
  {
   "cell_type": "code",
   "execution_count": 12,
   "metadata": {},
   "outputs": [],
   "source": [
    "import pandas as pd\n",
    "import json\n",
    "from collections import defaultdict"
   ]
  },
  {
   "cell_type": "code",
   "execution_count": 3,
   "metadata": {},
   "outputs": [],
   "source": [
    "with open('../static/data/co99_d00.json') as json_data:\n",
    "    data = json.load(json_data)"
   ]
  },
  {
   "cell_type": "code",
   "execution_count": null,
   "metadata": {},
   "outputs": [],
   "source": [
    "data"
   ]
  },
  {
   "cell_type": "markdown",
   "metadata": {},
   "source": [
    "### Scope the polygons to just the NCR counties"
   ]
  },
  {
   "cell_type": "code",
   "execution_count": 214,
   "metadata": {},
   "outputs": [
    {
     "name": "stdout",
     "output_type": "stream",
     "text": [
      "15\n"
     ]
    }
   ],
   "source": [
    "scoped = defaultdict(list)\n",
    "scoped['type'] =  'FeatureCollection'\n",
    "\n",
    "for polygon in data['geometries']:\n",
    "    #list of all coords in polygon\n",
    "    points = polygon['coordinates'][0]\n",
    "    \n",
    "    #list of longs/lats for all coords\n",
    "    longs = [point[0] for point in points]\n",
    "    lats = [point[1] for point in points]\n",
    "    \n",
    "    #scope using max and mins of lats/longs and add to dictionary\n",
    "    if max(longs) < -76.6 and max(lats) < 39.36 and min(lats) > 38.3 and min(longs) > -78:\n",
    "        scoped['features'].append({'type': 'Feature', 'geometry': polygon})\n",
    "\n",
    "print(len(scoped['features']))\n",
    "        \n"
   ]
  },
  {
   "cell_type": "code",
   "execution_count": 143,
   "metadata": {},
   "outputs": [],
   "source": [
    "#write dictionary to a json file\n",
    "file_location = '/Users/mikenlee/Documents/Personal/analytics/GWU/county_expenditures/static/data/scoped_counties.geojson'\n",
    "\n",
    "json.dump(scoped, open(file_location, 'w'))"
   ]
  },
  {
   "cell_type": "code",
   "execution_count": null,
   "metadata": {},
   "outputs": [],
   "source": [
    "scoped"
   ]
  },
  {
   "cell_type": "markdown",
   "metadata": {},
   "source": [
    "### Add `properties` information to the NCR counties geojson"
   ]
  },
  {
   "cell_type": "code",
   "execution_count": 243,
   "metadata": {},
   "outputs": [
    {
     "name": "stdout",
     "output_type": "stream",
     "text": [
      "15\n",
      "15\n",
      "0\n"
     ]
    },
    {
     "data": {
      "text/plain": [
       "[]"
      ]
     },
     "execution_count": 243,
     "metadata": {},
     "output_type": "execute_result"
    }
   ],
   "source": [
    "updated_counties = []\n",
    "test_counties = []\n",
    "print(len(scoped['features']))\n",
    "for county in scoped['features']:\n",
    "\n",
    "    #list of all coords in polygon\n",
    "    coords = county['geometry']['coordinates'][0]\n",
    "    \n",
    "    #list of longs/lats for all coords\n",
    "    longs = [coord[0] for coord in coords]\n",
    "    lats = [coord[1] for coord in coords]\n",
    "\n",
    "#     print(f'{min(longs)} #####> -77.16')\n",
    "#     print(f'{max(longs)} #####< -77.11')\n",
    "#     print(f'{max(lats)} #####< -39.14')\n",
    "#     print(f'{min(lats)} #####> 39.13')\n",
    "    \n",
    "    #select using max and mins of lats/longs and add to dictionary\n",
    "    #MONTGOMERY\n",
    "    \n",
    "#     if -77.197759 in longs and 39.340466 in lats:\n",
    "#         county.update({'properties': {'county': 'Montgomery County', 'population': 123456}})\n",
    "#         updated_counties.append(county)\n",
    "        \n",
    "    if max(lats) < 39.5 and min(lats) > 38.91:\n",
    "        county.update({'properties': {'county': 'Montgomery County', 'population': 123456}})\n",
    "        updated_counties.append(county)\n",
    "        \n",
    "\n",
    "    #LOUDOUN\n",
    "    elif max(lats) < 39.3289 and min(lats) > 38.84372 and min(longs) > -77.967 and max(longs) < -77.319:\n",
    "        county.update({'properties': {'county': 'Loudoun County', 'population': 123456}})\n",
    "        updated_counties.append(county)\n",
    "\n",
    "    #ARLINGTON\n",
    "    elif max(lats) < 38.935 and min(lats) > 38.825 and min(longs) > -77.173 and max(longs) < -77.027:\n",
    "        county.update({'properties': {'county': 'Arlington County', 'population': 123456}})\n",
    "        updated_counties.append(county)\n",
    "        \n",
    "    #PRINCE GEORGE'S\n",
    "    elif max(lats) < 39.139 and min(lats) > 38.532 and min(longs) > -77.1 and max(longs) < -76.63:\n",
    "        county.update({'properties': {'county': \"Prince George's County\", 'population': 123456}})\n",
    "        updated_counties.append(county)\n",
    "        \n",
    "    #PRINCE WILLIAM\n",
    "    elif -77.675857 in longs and 38.900693 in lats:\n",
    "        county.update({'properties': {'county': 'Prince William County', 'population': 123456}})\n",
    "        updated_counties.append(county)\n",
    "        \n",
    "    #FAIRFAX COUNTY\n",
    "    elif -77.394985 in longs and 38.990391 in lats:\n",
    "        county.update({'properties': {'county': 'Fairfax County', 'population': 123456}})\n",
    "        updated_counties.append(county)\n",
    "\n",
    "    #DC\n",
    "    elif -77.013798 in longs and 38.97441 in lats:\n",
    "        county.update({'properties': {'county': 'DC', 'population': 123456}})\n",
    "        updated_counties.append(county)\n",
    "\n",
    "    #Alexandria City\n",
    "    elif -77.07787 in longs and 38.800127 in lats:\n",
    "        county.update({'properties': {'county': 'Alexandria City', 'population': 123456}})\n",
    "        updated_counties.append(county)\n",
    "\n",
    "    #Fairfax\n",
    "    elif -77.303406 in longs and 38.834912 in lats:\n",
    "        county.update({'properties': {'county': 'Fairfax', 'population': 123456}})\n",
    "        updated_counties.append(county)\n",
    "        \n",
    "    #Manassas\n",
    "    elif -77.517607 in longs and 38.742749 in lats:\n",
    "        county.update({'properties': {'county': 'Manassas', 'population': 123456}})\n",
    "        updated_counties.append(county)\n",
    "    \n",
    "    #Falls Church\n",
    "    elif -77.149301 in longs and 38.873212 in lats:\n",
    "        county.update({'properties': {'county': 'Falls Church', 'population': 123456}})\n",
    "        updated_counties.append(county)\n",
    "\n",
    "    #Manassas Park\n",
    "    elif -77.44211 in longs and 38.775814 in lats:\n",
    "        county.update({'properties': {'county': 'Manassas Park', 'population': 123456}})\n",
    "        updated_counties.append(county)\n",
    "\n",
    "    #Manassas Park\n",
    "    elif -77.439219 in longs and 38.766926 in lats:\n",
    "        county.update({'properties': {'county': 'Manassas Park', 'population': 123456}})\n",
    "        updated_counties.append(county)\n",
    "\n",
    "    #Fairfax\n",
    "    elif -77.314422 in longs and 38.846377 in lats:\n",
    "        county.update({'properties': {'county': 'Fairfax', 'population': 123456}})\n",
    "        updated_counties.append(county)\n",
    "    \n",
    "    #Manassas\n",
    "    else:\n",
    "        county.update({'properties': {'county': \"Manassas\", 'population': 123456}})\n",
    "        updated_counties.append(county)\n",
    "        \n",
    "    \n",
    "print(len(updated_counties))        \n",
    "# print(updated_counties)\n",
    "print(len(test_counties))   \n",
    "test_counties"
   ]
  },
  {
   "cell_type": "code",
   "execution_count": null,
   "metadata": {},
   "outputs": [],
   "source": [
    "updated_counties"
   ]
  },
  {
   "cell_type": "code",
   "execution_count": 247,
   "metadata": {},
   "outputs": [],
   "source": [
    "new_scoped = defaultdict(list)\n",
    "new_scoped['type'] =  'FeatureCollection'\n",
    "\n",
    "new_scoped['features'] = updated_counties\n",
    "\n"
   ]
  },
  {
   "cell_type": "code",
   "execution_count": 248,
   "metadata": {},
   "outputs": [],
   "source": [
    "#write dictionary to a json file\n",
    "file_location = '/Users/mikenlee/Documents/Personal/analytics/GWU/county_expenditures/static/data/scoped_counties_info.geojson'\n",
    "\n",
    "json.dump(new_scoped, open(file_location, 'w'))"
   ]
  }
 ],
 "metadata": {
  "kernelspec": {
   "display_name": "Python 3",
   "language": "python",
   "name": "python3"
  },
  "language_info": {
   "codemirror_mode": {
    "name": "ipython",
    "version": 3
   },
   "file_extension": ".py",
   "mimetype": "text/x-python",
   "name": "python",
   "nbconvert_exporter": "python",
   "pygments_lexer": "ipython3",
   "version": "3.8.3"
  }
 },
 "nbformat": 4,
 "nbformat_minor": 4
}
