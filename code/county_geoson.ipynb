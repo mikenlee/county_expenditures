{
 "cells": [
  {
   "cell_type": "code",
   "execution_count": 12,
   "metadata": {},
   "outputs": [],
   "source": [
    "import pandas as pd\n",
    "import json\n",
    "from collections import defaultdict"
   ]
  },
  {
   "cell_type": "code",
   "execution_count": 3,
   "metadata": {},
   "outputs": [],
   "source": [
    "with open('../static/data/co99_d00.json') as json_data:\n",
    "    data = json.load(json_data)"
   ]
  },
  {
   "cell_type": "code",
   "execution_count": null,
   "metadata": {},
   "outputs": [],
   "source": [
    "data"
   ]
  },
  {
   "cell_type": "markdown",
   "metadata": {},
   "source": [
    "### Scope the polygons to just the NCR counties"
   ]
  },
  {
   "cell_type": "code",
   "execution_count": 214,
   "metadata": {},
   "outputs": [
    {
     "name": "stdout",
     "output_type": "stream",
     "text": [
      "15\n"
     ]
    }
   ],
   "source": [
    "scoped = defaultdict(list)\n",
    "scoped['type'] =  'FeatureCollection'\n",
    "\n",
    "for polygon in data['geometries']:\n",
    "    #list of all coords in polygon\n",
    "    points = polygon['coordinates'][0]\n",
    "    \n",
    "    #list of longs/lats for all coords\n",
    "    longs = [point[0] for point in points]\n",
    "    lats = [point[1] for point in points]\n",
    "    \n",
    "    #scope using max and mins of lats/longs and add to dictionary\n",
    "    if max(longs) < -76.6 and max(lats) < 39.36 and min(lats) > 38.3 and min(longs) > -78:\n",
    "        scoped['features'].append({'type': 'Feature', 'geometry': polygon})\n",
    "\n",
    "print(len(scoped['features']))\n",
    "        \n"
   ]
  },
  {
   "cell_type": "code",
   "execution_count": 143,
   "metadata": {},
   "outputs": [],
   "source": [
    "#write dictionary to a json file\n",
    "file_location = '/Users/mikenlee/Documents/Personal/analytics/GWU/county_expenditures/static/data/scoped_counties.geojson'\n",
    "\n",
    "json.dump(scoped, open(file_location, 'w'))"
   ]
  },
  {
   "cell_type": "code",
   "execution_count": null,
   "metadata": {},
   "outputs": [],
   "source": [
    "scoped"
   ]
  },
  {
   "cell_type": "markdown",
   "metadata": {},
   "source": [
    "## Add `properties` information to the NCR counties geojson"
   ]
  },
  {
   "cell_type": "code",
   "execution_count": 243,
   "metadata": {},
   "outputs": [
    {
     "name": "stdout",
     "output_type": "stream",
     "text": [
      "15\n",
      "15\n",
      "0\n"
     ]
    },
    {
     "data": {
      "text/plain": [
       "[]"
      ]
     },
     "execution_count": 243,
     "metadata": {},
     "output_type": "execute_result"
    }
   ],
   "source": [
    "updated_counties = []\n",
    "test_counties = []\n",
    "print(len(scoped['features']))\n",
    "for county in scoped['features']:\n",
    "\n",
    "    #list of all coords in polygon\n",
    "    coords = county['geometry']['coordinates'][0]\n",
    "    \n",
    "    #list of longs/lats for all coords\n",
    "    longs = [coord[0] for coord in coords]\n",
    "    lats = [coord[1] for coord in coords]\n",
    "\n",
    "#     print(f'{min(longs)} #####> -77.16')\n",
    "#     print(f'{max(longs)} #####< -77.11')\n",
    "#     print(f'{max(lats)} #####< -39.14')\n",
    "#     print(f'{min(lats)} #####> 39.13')\n",
    "    \n",
    "    #select using max and mins of lats/longs and add to dictionary\n",
    "    #MONTGOMERY\n",
    "    \n",
    "#     if -77.197759 in longs and 39.340466 in lats:\n",
    "#         county.update({'properties': {'county': 'Montgomery County', 'population': 123456}})\n",
    "#         updated_counties.append(county)\n",
    "        \n",
    "    if max(lats) < 39.5 and min(lats) > 38.91:\n",
    "        county.update({'properties': {'county': 'Montgomery County', 'population': 123456}})\n",
    "        updated_counties.append(county)\n",
    "        \n",
    "\n",
    "    #LOUDOUN\n",
    "    elif max(lats) < 39.3289 and min(lats) > 38.84372 and min(longs) > -77.967 and max(longs) < -77.319:\n",
    "        county.update({'properties': {'county': 'Loudoun County', 'population': 123456}})\n",
    "        updated_counties.append(county)\n",
    "\n",
    "    #ARLINGTON\n",
    "    elif max(lats) < 38.935 and min(lats) > 38.825 and min(longs) > -77.173 and max(longs) < -77.027:\n",
    "        county.update({'properties': {'county': 'Arlington County', 'population': 123456}})\n",
    "        updated_counties.append(county)\n",
    "        \n",
    "    #PRINCE GEORGE'S\n",
    "    elif max(lats) < 39.139 and min(lats) > 38.532 and min(longs) > -77.1 and max(longs) < -76.63:\n",
    "        county.update({'properties': {'county': \"Prince George's County\", 'population': 123456}})\n",
    "        updated_counties.append(county)\n",
    "        \n",
    "    #PRINCE WILLIAM\n",
    "    elif -77.675857 in longs and 38.900693 in lats:\n",
    "        county.update({'properties': {'county': 'Prince William County', 'population': 123456}})\n",
    "        updated_counties.append(county)\n",
    "        \n",
    "    #FAIRFAX COUNTY\n",
    "    elif -77.394985 in longs and 38.990391 in lats:\n",
    "        county.update({'properties': {'county': 'Fairfax County', 'population': 123456}})\n",
    "        updated_counties.append(county)\n",
    "\n",
    "    #DC\n",
    "    elif -77.013798 in longs and 38.97441 in lats:\n",
    "        county.update({'properties': {'county': 'DC', 'population': 123456}})\n",
    "        updated_counties.append(county)\n",
    "\n",
    "    #Alexandria City\n",
    "    elif -77.07787 in longs and 38.800127 in lats:\n",
    "        county.update({'properties': {'county': 'Alexandria City', 'population': 123456}})\n",
    "        updated_counties.append(county)\n",
    "\n",
    "    #Fairfax\n",
    "    elif -77.303406 in longs and 38.834912 in lats:\n",
    "        county.update({'properties': {'county': 'Fairfax', 'population': 123456}})\n",
    "        updated_counties.append(county)\n",
    "        \n",
    "    #Manassas\n",
    "    elif -77.517607 in longs and 38.742749 in lats:\n",
    "        county.update({'properties': {'county': 'Manassas', 'population': 123456}})\n",
    "        updated_counties.append(county)\n",
    "    \n",
    "    #Falls Church\n",
    "    elif -77.149301 in longs and 38.873212 in lats:\n",
    "        county.update({'properties': {'county': 'Falls Church', 'population': 123456}})\n",
    "        updated_counties.append(county)\n",
    "\n",
    "    #Manassas Park\n",
    "    elif -77.44211 in longs and 38.775814 in lats:\n",
    "        county.update({'properties': {'county': 'Manassas Park', 'population': 123456}})\n",
    "        updated_counties.append(county)\n",
    "\n",
    "    #Manassas Park\n",
    "    elif -77.439219 in longs and 38.766926 in lats:\n",
    "        county.update({'properties': {'county': 'Manassas Park', 'population': 123456}})\n",
    "        updated_counties.append(county)\n",
    "\n",
    "    #Fairfax\n",
    "    elif -77.314422 in longs and 38.846377 in lats:\n",
    "        county.update({'properties': {'county': 'Fairfax', 'population': 123456}})\n",
    "        updated_counties.append(county)\n",
    "    \n",
    "    #Manassas\n",
    "    else:\n",
    "        county.update({'properties': {'county': \"Manassas\", 'population': 123456}})\n",
    "        updated_counties.append(county)\n",
    "        \n",
    "    \n",
    "print(len(updated_counties))        \n",
    "# print(updated_counties)\n",
    "print(len(test_counties))   \n",
    "test_counties"
   ]
  },
  {
   "cell_type": "code",
   "execution_count": 247,
   "metadata": {},
   "outputs": [],
   "source": [
    "new_scoped = defaultdict(list)\n",
    "new_scoped['type'] =  'FeatureCollection'\n",
    "\n",
    "new_scoped['features'] = updated_counties\n"
   ]
  },
  {
   "cell_type": "code",
   "execution_count": 310,
   "metadata": {},
   "outputs": [
    {
     "name": "stdout",
     "output_type": "stream",
     "text": [
      "Montgomery County\n",
      "Loudoun County\n",
      "Prince George's County\n",
      "Fairfax County\n",
      "DC\n",
      "Prince William County\n",
      "Arlington County\n",
      "Falls Church\n",
      "Fairfax\n",
      "Fairfax\n",
      "Alexandria City\n",
      "Manassas Park\n",
      "Manassas\n",
      "Manassas Park\n",
      "Manassas\n"
     ]
    },
    {
     "data": {
      "text/plain": [
       "{'county': 'Montgomery County', 'population': 123456}"
      ]
     },
     "execution_count": 310,
     "metadata": {},
     "output_type": "execute_result"
    }
   ],
   "source": [
    "for county in new_scoped['features']:\n",
    "    print(county['properties']['county'])\n",
    "\n",
    "new_scoped['features'][0]['properties']"
   ]
  },
  {
   "cell_type": "markdown",
   "metadata": {},
   "source": [
    "### Scrape Wikipedia for county information"
   ]
  },
  {
   "cell_type": "code",
   "execution_count": 315,
   "metadata": {},
   "outputs": [],
   "source": [
    "from splinter import Browser\n",
    "from bs4 import BeautifulSoup\n",
    "from webdriver_manager.chrome import ChromeDriverManager\n",
    "import pandas as pd\n",
    "import json\n",
    "import unicodedata"
   ]
  },
  {
   "cell_type": "code",
   "execution_count": 251,
   "metadata": {},
   "outputs": [
    {
     "name": "stderr",
     "output_type": "stream",
     "text": [
      "[WDM] - Current google-chrome version is 88.0.4324\n",
      "[WDM] - Get LATEST driver version for 88.0.4324\n",
      "[WDM] - Driver [/Users/mikenlee/.wdm/drivers/chromedriver/mac64/88.0.4324.96/chromedriver] found in cache\n"
     ]
    },
    {
     "name": "stdout",
     "output_type": "stream",
     "text": [
      " \n"
     ]
    }
   ],
   "source": [
    "# Setup splinter\n",
    "executable_path = {'executable_path': ChromeDriverManager().install()}\n",
    "browser = Browser('chrome', **executable_path, headless=False)"
   ]
  },
  {
   "cell_type": "code",
   "execution_count": 312,
   "metadata": {},
   "outputs": [],
   "source": [
    "alexandria_url = 'https://en.wikipedia.org/wiki/Alexandria,_Virginia'\n",
    "loudoun_url = 'https://en.wikipedia.org/wiki/Loudoun_County,_Virginia'\n",
    "montgomery_url = 'https://en.wikipedia.org/wiki/Montgomery_County,_Maryland'\n",
    "arlington_url = 'https://en.wikipedia.org/wiki/Arlington_County,_Virginia'\n",
    "princewilliam_url = 'https://en.wikipedia.org/wiki/Prince_William_County,_Virginia'\n",
    "princegeorges_url = \"https://en.wikipedia.org/wiki/Prince_George's_County,_Maryland\"\n",
    "dc_url = 'https://en.wikipedia.org/wiki/Washington,_D.C.'\n",
    "fallschurch_url = 'https://en.wikipedia.org/wiki/Falls_Church,_Virginia'\n",
    "manassas_url = 'https://en.wikipedia.org/wiki/Manassas,_Virginia'\n",
    "manassaspark_url = 'https://en.wikipedia.org/wiki/Manassas_Park,_Virginia'\n",
    "fairfax_url = 'https://en.wikipedia.org/wiki/Fairfax_County,_Virginia'\n",
    "fairfaxcity_url = 'https://en.wikipedia.org/wiki/Fairfax,_Virginia'\n",
    "\n",
    "url_list = [alexandria_url, loudoun_url, montgomery_url, arlington_url, princewilliam_url, princegeorges_url, dc_url,\n",
    "            fallschurch_url, manassas_url, manassaspark_url, fairfax_url, fairfaxcity_url]"
   ]
  },
  {
   "cell_type": "code",
   "execution_count": 253,
   "metadata": {},
   "outputs": [],
   "source": [
    "browser.visit(fairfax_url)"
   ]
  },
  {
   "cell_type": "code",
   "execution_count": 254,
   "metadata": {},
   "outputs": [],
   "source": [
    "soup = BeautifulSoup(browser.html, parser='html.parser')"
   ]
  },
  {
   "cell_type": "code",
   "execution_count": 306,
   "metadata": {},
   "outputs": [
    {
     "data": {
      "text/plain": [
       "'Fairfax County'"
      ]
     },
     "execution_count": 306,
     "metadata": {},
     "output_type": "execute_result"
    }
   ],
   "source": [
    "soup.find('div', class_=\"fn org\").text"
   ]
  },
  {
   "cell_type": "code",
   "execution_count": 317,
   "metadata": {},
   "outputs": [
    {
     "name": "stdout",
     "output_type": "stream",
     "text": [
      "{'county': 'Montgomery County', 'population': '1,050,688', 'founded': 'September 6, 1776[3][4]', 'named_for': 'Richard Montgomery', 'total_area': '507 sq mi (1,310 km2)', 'land_area': '491 sq mi (1,270 km2)', 'water_area': '16 sq mi (40 km2)  3.1%', 'density': '1,900/sq mi (740/km2)'}\n",
      "--------\n",
      "{'county': 'Loudoun County', 'population': '413,538', 'founded': '1757', 'named_for': 'John Campbell, 4th Earl of Loudoun[2]', 'seat': 'Leesburg', 'largest_town': 'Leesburg', 'total_area': '521 sq mi (1,350 km2)', 'land_area': '516 sq mi (1,340 km2)', 'water_area': '6 sq mi (20 km2)  1.1%', 'density': '600/sq mi (230/km2)'}\n",
      "--------\n",
      "{'county': \"Prince George's County\", 'population': 123456}\n",
      "--------\n",
      "{'county': 'Fairfax County', 'population': '1,147,532', 'founded': 'June 19, 1742', 'named_for': 'Thomas Fairfax, 6th Lord Fairfax of Cameron', 'seat': 'Fairfax (independent city)1', 'largest_town': 'Herndon', 'total_area': '406 sq mi (1,050 km2)', 'land_area': '\\nFairfax County Government Center\\nWolf Trap National Park for the Performing Arts\\nInova Fairfax Hospital\\nMount Vernon\\nGunston Hall\\nTysons Corner Center\\nWashington & Old Dominion Railroad Regional Park\\nGreat Falls Park\\nSteven F. Udvar-Hazy Center\\nWashington and Old Dominion Railway\\nFort Belvoir\\n', 'water_area': '15 sq mi (40 km2)  3.8%', 'density': '2,700/sq mi (1,000/km2)'}\n",
      "--------\n",
      "{'county': 'DC', 'population': 123456}\n",
      "--------\n",
      "{'county': 'Prince William County', 'population': 123456}\n",
      "--------\n",
      "{'county': 'Arlington County', 'population': 123456}\n",
      "--------\n",
      "{'county': 'Falls Church', 'population': 123456}\n",
      "--------\n",
      "{'county': 'Fairfax', 'population': '1,147,532', 'founded': 'June 19, 1742', 'named_for': 'Thomas Fairfax, 6th Lord Fairfax of Cameron', 'seat': 'Fairfax (independent city)1', 'largest_town': 'Herndon', 'total_area': '406 sq mi (1,050 km2)', 'land_area': '\\nFairfax County Government Center\\nWolf Trap National Park for the Performing Arts\\nInova Fairfax Hospital\\nMount Vernon\\nGunston Hall\\nTysons Corner Center\\nWashington & Old Dominion Railroad Regional Park\\nGreat Falls Park\\nSteven F. Udvar-Hazy Center\\nWashington and Old Dominion Railway\\nFort Belvoir\\n', 'water_area': '15 sq mi (40 km2)  3.8%', 'density': '2,700/sq mi (1,000/km2)'}\n",
      "--------\n",
      "{'county': 'Fairfax', 'population': '1,147,532', 'founded': 'June 19, 1742', 'named_for': 'Thomas Fairfax, 6th Lord Fairfax of Cameron', 'seat': 'Fairfax (independent city)1', 'largest_town': 'Herndon', 'total_area': '406 sq mi (1,050 km2)', 'land_area': '\\nFairfax County Government Center\\nWolf Trap National Park for the Performing Arts\\nInova Fairfax Hospital\\nMount Vernon\\nGunston Hall\\nTysons Corner Center\\nWashington & Old Dominion Railroad Regional Park\\nGreat Falls Park\\nSteven F. Udvar-Hazy Center\\nWashington and Old Dominion Railway\\nFort Belvoir\\n', 'water_area': '15 sq mi (40 km2)  3.8%', 'density': '2,700/sq mi (1,000/km2)'}\n",
      "--------\n",
      "{'county': 'Alexandria City', 'population': 123456}\n",
      "--------\n",
      "{'county': 'Manassas Park', 'population': 123456}\n",
      "--------\n",
      "{'county': 'Manassas', 'population': '41,085', 'total_area': '9.90 sq mi (25.64 km2)', 'land_area': '9.84 sq mi (25.49 km2)', 'water_area': '0.06 sq mi (0.15 km2)', 'density': '4,174.03/sq mi (1,611.60/km2)'}\n",
      "--------\n",
      "{'county': 'Manassas Park', 'population': 123456}\n",
      "--------\n",
      "{'county': 'Manassas', 'population': '41,085', 'total_area': '9.90 sq mi (25.64 km2)', 'land_area': '9.84 sq mi (25.49 km2)', 'water_area': '0.06 sq mi (0.15 km2)', 'density': '4,174.03/sq mi (1,611.60/km2)'}\n",
      "--------\n"
     ]
    }
   ],
   "source": [
    "for url in url_list: \n",
    "    browser.visit(url)\n",
    "    soup = BeautifulSoup(browser.html, parser='html.parser')\n",
    "    # get all html rows\n",
    "    trows = soup.find_all('tr')\n",
    "    #get wikicounty name\n",
    "    wiki_countyname = soup.find('div', class_=\"fn org\").text\n",
    "\n",
    "    #if the visited wiki page matches the county, update dictionary\n",
    "    for i, county in enumerate(new_scoped['features']):\n",
    "        \n",
    "        #check if county matches the wiki page\n",
    "        if county['properties']['county'] in wiki_countyname:\n",
    "\n",
    "            #find specifc th's to extract td text and update county properties GEOJSON\n",
    "            for row in trows:\n",
    "                try:\n",
    "                    if row.th.text == 'Founded':\n",
    "                        new_scoped['features'][i]['properties']['founded'] = unicodedata.normalize('NFKD', row.td.text)\n",
    "                    if row.th.text == 'Named for':\n",
    "                        new_scoped['features'][i]['properties']['named_for'] = unicodedata.normalize('NFKD', row.td.text)\n",
    "                    if row.th.text == 'Seat':\n",
    "                        new_scoped['features'][i]['properties']['seat'] = unicodedata.normalize('NFKD', row.td.text)\n",
    "                    if 'Largest' in row.th.text:\n",
    "                        new_scoped['features'][i]['properties']['largest_town'] = unicodedata.normalize('NFKD', row.td.text)\n",
    "                    if 'Total' in row.th.text and 'mi' in row.td.text:\n",
    "                        new_scoped['features'][i]['properties']['total_area'] = unicodedata.normalize('NFKD', row.td.text)\n",
    "                    if 'Land' in row.th.text and 'mi' in row.td.text:\n",
    "                        new_scoped['features'][i]['properties']['land_area'] = unicodedata.normalize('NFKD', row.td.text)\n",
    "                    if 'Water' in row.th.text:\n",
    "                        new_scoped['features'][i]['properties']['water_area'] = unicodedata.normalize('NFKD', row.td.text)\n",
    "                    if 'Estimate' in row.th.text:\n",
    "                        new_scoped['features'][i]['properties']['population'] = unicodedata.normalize('NFKD', row.td.text)\n",
    "                    if 'Density' in row.th.text:\n",
    "                        new_scoped['features'][i]['properties']['density'] = unicodedata.normalize('NFKD', row.td.text)\n",
    "\n",
    "                except:\n",
    "                    continue\n",
    "        \n",
    "        #if visited wiki page doesn't match the county go to the next county\n",
    "        else:\n",
    "            continue\n",
    "\n",
    "for county in new_scoped['features']:\n",
    "    print(county['properties'])\n",
    "    print('--------')"
   ]
  },
  {
   "cell_type": "code",
   "execution_count": null,
   "metadata": {},
   "outputs": [],
   "source": []
  },
  {
   "cell_type": "code",
   "execution_count": 258,
   "metadata": {},
   "outputs": [
    {
     "data": {
      "text/plain": [
       "[                                       Fairfax County  \\\n",
       " 0                                              County   \n",
       " 1                                   County of Fairfax   \n",
       " 2                                Mount Vernon mansion   \n",
       " 3                                        FlagSealLogo   \n",
       " 4          Location within the U.S. state of Virginia   \n",
       " 5                 Virginia's location within the U.S.   \n",
       " 6   Coordinates: .mw-parser-output .geo-default,.m...   \n",
       " 7                                             Country   \n",
       " 8                                               State   \n",
       " 9                                             Founded   \n",
       " 10                                          Named for   \n",
       " 11                                               Seat   \n",
       " 12                                       Largest town   \n",
       " 13                                               Area   \n",
       " 14                                            • Total   \n",
       " 15                                             • Land   \n",
       " 16                                            • Water   \n",
       " 17                                  Population (2010)   \n",
       " 18                                            • Total   \n",
       " 19                                  • Estimate (2019)   \n",
       " 20                                          • Density   \n",
       " 21                                          Time zone   \n",
       " 22                                     • Summer (DST)   \n",
       " 23                            Congressional districts   \n",
       " 24                                            Website   \n",
       " 25  1 Administrative and court offices are located...   \n",
       " \n",
       "                                      Fairfax County.1  \n",
       " 0                                              County  \n",
       " 1                                   County of Fairfax  \n",
       " 2                                Mount Vernon mansion  \n",
       " 3                                        FlagSealLogo  \n",
       " 4          Location within the U.S. state of Virginia  \n",
       " 5                 Virginia's location within the U.S.  \n",
       " 6   Coordinates: .mw-parser-output .geo-default,.m...  \n",
       " 7                                       United States  \n",
       " 8                                            Virginia  \n",
       " 9                                       June 19, 1742  \n",
       " 10        Thomas Fairfax, 6th Lord Fairfax of Cameron  \n",
       " 11                        Fairfax (independent city)1  \n",
       " 12                                            Herndon  \n",
       " 13                                               Area  \n",
       " 14                              406 sq mi (1,050 km2)  \n",
       " 15                              391 sq mi (1,010 km2)  \n",
       " 16                             15 sq mi (40 km2) 3.8%  \n",
       " 17                                  Population (2010)  \n",
       " 18                                            1081726  \n",
       " 19                                            1147532  \n",
       " 20                            2,700/sq mi (1,000/km2)  \n",
       " 21                                    UTC−5 (Eastern)  \n",
       " 22                                        UTC−4 (EDT)  \n",
       " 23                                    8th, 10th, 11th  \n",
       " 24                              www.fairfaxcounty.gov  \n",
       " 25  1 Administrative and court offices are located...  ]"
      ]
     },
     "execution_count": 258,
     "metadata": {},
     "output_type": "execute_result"
    }
   ],
   "source": [
    "pd.read_html(f'<table>{info_table.tbody}</table>')"
   ]
  },
  {
   "cell_type": "code",
   "execution_count": null,
   "metadata": {},
   "outputs": [],
   "source": []
  },
  {
   "cell_type": "code",
   "execution_count": 248,
   "metadata": {},
   "outputs": [],
   "source": [
    "#write dictionary to a json file\n",
    "file_location = '/Users/mikenlee/Documents/Personal/analytics/GWU/county_expenditures/static/data/scoped_counties_info.geojson'\n",
    "\n",
    "json.dump(new_scoped, open(file_location, 'w'))"
   ]
  }
 ],
 "metadata": {
  "kernelspec": {
   "display_name": "Python 3",
   "language": "python",
   "name": "python3"
  },
  "language_info": {
   "codemirror_mode": {
    "name": "ipython",
    "version": 3
   },
   "file_extension": ".py",
   "mimetype": "text/x-python",
   "name": "python",
   "nbconvert_exporter": "python",
   "pygments_lexer": "ipython3",
   "version": "3.8.3"
  }
 },
 "nbformat": 4,
 "nbformat_minor": 4
}
